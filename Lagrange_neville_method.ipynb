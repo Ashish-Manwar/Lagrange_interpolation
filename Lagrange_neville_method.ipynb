{
  "nbformat": 4,
  "nbformat_minor": 0,
  "metadata": {
    "colab": {
      "name": "Lagrange_neville_method.ipynb",
      "provenance": []
    },
    "kernelspec": {
      "name": "python3",
      "display_name": "Python 3"
    }
  },
  "cells": [
    {
      "cell_type": "code",
      "metadata": {
        "id": "oMzpe5tnlMWX",
        "colab_type": "code",
        "colab": {
          "base_uri": "https://localhost:8080/",
          "height": 136
        },
        "outputId": "a14e9c53-7d22-4d4b-80da-2d876a625ceb"
      },
      "source": [
        "import math\n",
        "import matplotlib.pyplot as plt\n",
        "\n",
        "n= int(input('n: '))\n",
        "x=[]\n",
        "y=[]\n",
        "for i in range(n):\n",
        "  x.append(int(input('points :')))\n",
        "  y.append(int (input ('values of points :')))"
      ],
      "execution_count": 36,
      "outputs": [
        {
          "output_type": "stream",
          "text": [
            "n: 3\n",
            "points :1\n",
            "values of points :1\n",
            "points :2\n",
            "values of points :4\n",
            "points :3\n",
            "values of points :9\n"
          ],
          "name": "stdout"
        }
      ]
    },
    {
      "cell_type": "code",
      "metadata": {
        "id": "UjaHrt5ymPYD",
        "colab_type": "code",
        "colab": {
          "base_uri": "https://localhost:8080/",
          "height": 285
        },
        "outputId": "d1e63fd6-f7c9-4be5-a6fc-8fdde78878e0"
      },
      "source": [
        "plt.plot(x,y,'o')"
      ],
      "execution_count": 37,
      "outputs": [
        {
          "output_type": "execute_result",
          "data": {
            "text/plain": [
              "[<matplotlib.lines.Line2D at 0x7fe03c2b1908>]"
            ]
          },
          "metadata": {
            "tags": []
          },
          "execution_count": 37
        },
        {
          "output_type": "display_data",
          "data": {
            "image/png": "[encoded data removed]",
            "text/plain": [
              "<Figure size 432x288 with 1 Axes>"
            ]
          },
          "metadata": {
            "tags": []
          }
        }
      ]
    },
    {
      "cell_type": "code",
      "metadata": {
        "id": "ykzo80AjolkC",
        "colab_type": "code",
        "colab": {
          "base_uri": "https://localhost:8080/",
          "height": 34
        },
        "outputId": "1e1e8aa8-f3f0-4af9-94be-651dd0ef96aa"
      },
      "source": [
        "def lagrange(x0,y0,x1,y1,x):\n",
        "  return ((x-x1)/(x0-x1))*y0+((x-x0)/(x1-x0))*y1\n",
        "\n",
        "def pol(x_array,y_array,n,x_value):\n",
        "  if n!=2:\n",
        "    y0=pol(x_array[0:n-1],y_array[0:n-1],n-1,x_value)\n",
        "    y1=pol(x_array[1:n],y_array[1:n],n-1,x_value)\n",
        "    return lagrange(x_array[0],y0,x_array[n-1],y1,x_value)\n",
        "  else :\n",
        "    return lagrange(x_array[0],y_array[0],x_array[1],y_array[1],x_value)"
      ],
      "execution_count": 41,
      "outputs": [
        {
          "output_type": "execute_result",
          "data": {
            "text/plain": [
              "25.0"
            ]
          },
          "metadata": {
            "tags": []
          },
          "execution_count": 41
        }
      ]
    },
    {
      "cell_type": "code",
      "metadata": {
        "id": "9Lu8Ffg71AF_",
        "colab_type": "code",
        "colab": {
          "base_uri": "https://localhost:8080/",
          "height": 268
        },
        "outputId": "1394e13a-b3ff-4745-b90e-ffda0fcd9a97"
      },
      "source": [
        "import seaborn as sns\n",
        "import numpy as np\n",
        "sns.set()\n",
        "x_plot = np.linspace(x[0], x[n-1], 100)\n",
        "y_plot=[]\n",
        "for i in range(len(list(x_plot))):\n",
        "  y_plot.append(pol(x,y,n,list(x_plot)[i]))\n",
        "sns.lineplot(x_plot,y_plot)\n",
        "plt.show()"
      ],
      "execution_count": 48,
      "outputs": [
        {
          "output_type": "display_data",
          "data": {
            "image/png": "[encoded data removed]",
            "text/plain": [
              "<Figure size 432x288 with 1 Axes>"
            ]
          },
          "metadata": {
            "tags": []
          }
        }
      ]
    },
    {
      "cell_type": "code",
      "metadata": {
        "id": "o3IRYq6y3IzT",
        "colab_type": "code",
        "colab": {}
      },
      "source": [
        "\n"
      ],
      "execution_count": 0,
      "outputs": []
    }
  ]
}